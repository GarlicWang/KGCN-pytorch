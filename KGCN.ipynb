{
 "cells": [
  {
   "cell_type": "code",
   "execution_count": 1,
   "metadata": {
    "tags": []
   },
   "outputs": [
    {
     "name": "stderr",
     "output_type": "stream",
     "text": [
      "/home/shane_wang/anaconda3/envs/KGCN/lib/python3.7/site-packages/tqdm/auto.py:22: TqdmWarning: IProgress not found. Please update jupyter and ipywidgets. See https://ipywidgets.readthedocs.io/en/stable/user_install.html\n",
      "  from .autonotebook import tqdm as notebook_tqdm\n"
     ]
    }
   ],
   "source": [
    "import pandas as pd\n",
    "import numpy as np\n",
    "import argparse\n",
    "import random\n",
    "import mlflow\n",
    "from model import KGCN\n",
    "from sklearn.preprocessing import LabelEncoder\n",
    "from data_loader import DataLoader\n",
    "import torch\n",
    "import torch.optim as optim\n",
    "from sklearn.model_selection import train_test_split\n",
    "import matplotlib.pyplot as plt\n",
    "from sklearn.metrics import roc_curve, roc_auc_score\n",
    "from tqdm import tqdm"
   ]
  },
  {
   "cell_type": "code",
   "execution_count": 2,
   "metadata": {},
   "outputs": [
    {
     "data": {
      "text/plain": [
       "True"
      ]
     },
     "execution_count": 2,
     "metadata": {},
     "output_type": "execute_result"
    }
   ],
   "source": [
    "torch.cuda.is_available()"
   ]
  },
  {
   "cell_type": "code",
   "execution_count": 3,
   "metadata": {},
   "outputs": [
    {
     "data": {
      "text/plain": [
       "<Experiment: artifact_location='file:///data/mlruns/33', experiment_id='33', lifecycle_stage='active', name='KGCN-PyTorch', tags={'mlflow.note.content': '[KGCN PyTorch '\n",
       "                        'Version](https://github.com/zzaebok/KGCN-pytorch)\\n'}>"
      ]
     },
     "execution_count": 3,
     "metadata": {},
     "output_type": "execute_result"
    }
   ],
   "source": [
    "### mlflow setting\n",
    "remote_server_uri = \"http://192.168.121.142:5000\" # set to your server URI\n",
    "mlflow.set_tracking_uri(remote_server_uri)\n",
    "mlflow.set_experiment(\"KGCN-PyTorch\")    "
   ]
  },
  {
   "cell_type": "code",
   "execution_count": 4,
   "metadata": {},
   "outputs": [],
   "source": [
    "# dataset_type = 'CMoney_stock_rel_stock_article'\n",
    "# dataset_type = 'CMoney_stock_rel'\n",
    "# dataset_type = 'CMoney_two_rel_stock_article'\n",
    "# dataset_type = 'CMoney_two_rel'\n",
    "dataset_type = 'CMoney_relabel_stock_rel_stock_article'\n",
    "# dataset_type = 'CMoney_relabel_stock_rel'\n",
    "# dataset_type = 'CMoney_relabel_two_rel_stock_article'\n",
    "# dataset_type = 'CMoney_relabel_two_rel'"
   ]
  },
  {
   "cell_type": "code",
   "execution_count": 5,
   "metadata": {},
   "outputs": [],
   "source": [
    "# prepare arguments (hyperparameters)\n",
    "parser = argparse.ArgumentParser()\n",
    "\n",
    "parser.add_argument('--dataset', type=str, default=dataset_type, help='which dataset to use')\n",
    "parser.add_argument('--aggregator', type=str, default='sum', help='which aggregator to use')\n",
    "parser.add_argument('--n_epochs', type=int, default=3, help='the number of epochs')\n",
    "parser.add_argument('--neighbor_sample_size', type=int, default=8, help='the number of neighbors to be sampled')\n",
    "parser.add_argument('--dim', type=int, default=32, help='dimension of user and entity embeddings')\n",
    "parser.add_argument('--n_iter', type=int, default=2, help='number of iterations when computing entity representation')\n",
    "parser.add_argument('--batch_size', type=int, default=128, help='batch size')\n",
    "parser.add_argument('--l2_weight', type=float, default=2e-5, help='weight of l2 regularization')\n",
    "parser.add_argument('--lr', type=float, default=5e-3, help='learning rate')\n",
    "parser.add_argument('--train_data_ratio', type=float, default=0.8, help='size of training dataset')\n",
    "\n",
    "args = parser.parse_args([])"
   ]
  },
  {
   "cell_type": "code",
   "execution_count": 6,
   "metadata": {
    "tags": []
   },
   "outputs": [
    {
     "name": "stdout",
     "output_type": "stream",
     "text": [
      "Construct knowledge graph ... Done\n",
      "Build dataset dataframe ... Done\n"
     ]
    },
    {
     "data": {
      "text/html": [
       "<div>\n",
       "<style scoped>\n",
       "    .dataframe tbody tr th:only-of-type {\n",
       "        vertical-align: middle;\n",
       "    }\n",
       "\n",
       "    .dataframe tbody tr th {\n",
       "        vertical-align: top;\n",
       "    }\n",
       "\n",
       "    .dataframe thead th {\n",
       "        text-align: right;\n",
       "    }\n",
       "</style>\n",
       "<table border=\"1\" class=\"dataframe\">\n",
       "  <thead>\n",
       "    <tr style=\"text-align: right;\">\n",
       "      <th></th>\n",
       "      <th>userID</th>\n",
       "      <th>itemID</th>\n",
       "      <th>label</th>\n",
       "    </tr>\n",
       "  </thead>\n",
       "  <tbody>\n",
       "    <tr>\n",
       "      <th>0</th>\n",
       "      <td>2616</td>\n",
       "      <td>23624</td>\n",
       "      <td>1</td>\n",
       "    </tr>\n",
       "    <tr>\n",
       "      <th>1</th>\n",
       "      <td>13463</td>\n",
       "      <td>43910</td>\n",
       "      <td>0</td>\n",
       "    </tr>\n",
       "    <tr>\n",
       "      <th>2</th>\n",
       "      <td>18558</td>\n",
       "      <td>62466</td>\n",
       "      <td>1</td>\n",
       "    </tr>\n",
       "    <tr>\n",
       "      <th>3</th>\n",
       "      <td>26764</td>\n",
       "      <td>47573</td>\n",
       "      <td>1</td>\n",
       "    </tr>\n",
       "    <tr>\n",
       "      <th>4</th>\n",
       "      <td>8489</td>\n",
       "      <td>14955</td>\n",
       "      <td>1</td>\n",
       "    </tr>\n",
       "    <tr>\n",
       "      <th>...</th>\n",
       "      <td>...</td>\n",
       "      <td>...</td>\n",
       "      <td>...</td>\n",
       "    </tr>\n",
       "    <tr>\n",
       "      <th>6689077</th>\n",
       "      <td>24136</td>\n",
       "      <td>14165</td>\n",
       "      <td>1</td>\n",
       "    </tr>\n",
       "    <tr>\n",
       "      <th>6689078</th>\n",
       "      <td>8311</td>\n",
       "      <td>44677</td>\n",
       "      <td>0</td>\n",
       "    </tr>\n",
       "    <tr>\n",
       "      <th>6689079</th>\n",
       "      <td>18022</td>\n",
       "      <td>18845</td>\n",
       "      <td>1</td>\n",
       "    </tr>\n",
       "    <tr>\n",
       "      <th>6689080</th>\n",
       "      <td>21302</td>\n",
       "      <td>59806</td>\n",
       "      <td>1</td>\n",
       "    </tr>\n",
       "    <tr>\n",
       "      <th>6689081</th>\n",
       "      <td>23147</td>\n",
       "      <td>65522</td>\n",
       "      <td>1</td>\n",
       "    </tr>\n",
       "  </tbody>\n",
       "</table>\n",
       "<p>6689082 rows × 3 columns</p>\n",
       "</div>"
      ],
      "text/plain": [
       "         userID  itemID  label\n",
       "0          2616   23624      1\n",
       "1         13463   43910      0\n",
       "2         18558   62466      1\n",
       "3         26764   47573      1\n",
       "4          8489   14955      1\n",
       "...         ...     ...    ...\n",
       "6689077   24136   14165      1\n",
       "6689078    8311   44677      0\n",
       "6689079   18022   18845      1\n",
       "6689080   21302   59806      1\n",
       "6689081   23147   65522      1\n",
       "\n",
       "[6689082 rows x 3 columns]"
      ]
     },
     "execution_count": 6,
     "metadata": {},
     "output_type": "execute_result"
    }
   ],
   "source": [
    "# build dataset and knowledge graph\n",
    "data_loader = DataLoader(args.dataset)\n",
    "kg = data_loader.load_kg()\n",
    "df_dataset = data_loader.load_dataset(global_neg = True)\n",
    "df_dataset"
   ]
  },
  {
   "cell_type": "code",
   "execution_count": 7,
   "metadata": {},
   "outputs": [],
   "source": [
    "# Dataset class\n",
    "class KGCNDataset(torch.utils.data.Dataset):\n",
    "    def __init__(self, df):\n",
    "        self.df = df\n",
    "    def __len__(self):\n",
    "        return len(self.df)\n",
    "    def __getitem__(self, idx):\n",
    "        user_id = np.array(self.df.iloc[idx]['userID'])\n",
    "        item_id = np.array(self.df.iloc[idx]['itemID'])\n",
    "        label = np.array(self.df.iloc[idx]['label'], dtype=np.float32)\n",
    "        return user_id, item_id, label"
   ]
  },
  {
   "cell_type": "code",
   "execution_count": 8,
   "metadata": {},
   "outputs": [],
   "source": [
    "# train test split\n",
    "x_train, x_test = train_test_split(df_dataset, test_size=1 - args.train_data_ratio, shuffle=False)\n",
    "train_dataset = KGCNDataset(x_train)\n",
    "test_dataset = KGCNDataset(x_test)\n",
    "train_loader = torch.utils.data.DataLoader(train_dataset, batch_size=args.batch_size)\n",
    "test_loader = torch.utils.data.DataLoader(test_dataset, batch_size=args.batch_size)"
   ]
  },
  {
   "cell_type": "code",
   "execution_count": 9,
   "metadata": {},
   "outputs": [
    {
     "name": "stdout",
     "output_type": "stream",
     "text": [
      "device:  cuda\n"
     ]
    }
   ],
   "source": [
    "# prepare network, loss function, optimizer\n",
    "num_user, num_entity, num_relation = data_loader.get_num()\n",
    "user_encoder, entity_encoder, relation_encoder = data_loader.get_encoders()\n",
    "device = torch.device('cuda' if torch.cuda.is_available() else 'cpu')\n",
    "net = KGCN(num_user, num_entity, num_relation, kg, args, device).to(device)\n",
    "criterion = torch.nn.BCELoss()\n",
    "optimizer = optim.Adam(net.parameters(), lr=args.lr, weight_decay=args.l2_weight)\n",
    "print('device: ', device)"
   ]
  },
  {
   "cell_type": "markdown",
   "metadata": {},
   "source": [
    "#### mlflow argument"
   ]
  },
  {
   "cell_type": "code",
   "execution_count": 10,
   "metadata": {},
   "outputs": [],
   "source": [
    "run_name = \"V1 : global neg sample\"\n",
    "description=\"random data splitting\\nglobal negative sampling\"\n",
    "tags = {\"data spliting\": \"random\", \"data version\": \"V3_relabel_stock_rel_stock_article\", \"data date\": \"0622-0705\", \"neg sample type\": \"all global\", \"neg sample num\": \"same as pos sample for each user (if enough)\"}"
   ]
  },
  {
   "cell_type": "code",
   "execution_count": null,
   "metadata": {},
   "outputs": [],
   "source": [
    "# train\n",
    "train_loss_list = []\n",
    "test_loss_list = []\n",
    "train_auc_list = []\n",
    "test_auc_list = []\n",
    "\n",
    "with mlflow.start_run(run_name=run_name, description=description):\n",
    "    ### log params\n",
    "    params = vars(args)\n",
    "    mlflow.log_params(params)\n",
    "\n",
    "    ### log tags\n",
    "    mlflow.set_tags(tags)\n",
    "\n",
    "    for epoch in range(args.n_epochs):\n",
    "        train_running_loss = 0.0\n",
    "        train_total_roc = 0\n",
    "        for user_ids, item_ids, labels in tqdm(train_loader):\n",
    "            user_ids, item_ids, labels = user_ids.to(device), item_ids.to(device), labels.to(device)\n",
    "            optimizer.zero_grad()\n",
    "            outputs = net(user_ids, item_ids)\n",
    "            loss = criterion(outputs, labels)\n",
    "            loss.backward()\n",
    "            \n",
    "            optimizer.step()\n",
    "\n",
    "            train_running_loss += loss.item()\n",
    "            train_total_roc += roc_auc_score(labels.cpu().detach().numpy(), outputs.cpu().detach().numpy())\n",
    "        \n",
    "        # print train loss per every epoch\n",
    "        train_loss, train_auc = train_running_loss / len(train_loader), train_total_roc / len(train_loader)\n",
    "        print('[Epoch {}]train_loss: '.format(epoch+1), train_loss, ' ; train_auc: ', train_auc)\n",
    "        train_loss_list.append(train_loss)\n",
    "        train_auc_list.append(train_auc)\n",
    "        mlflow.log_metric(\"train_loss\", train_loss, step=epoch)\n",
    "        mlflow.log_metric(\"train_auc\", train_auc, step=epoch)\n",
    "            \n",
    "        # evaluate per every epoch\n",
    "        with torch.no_grad():\n",
    "            test_running_loss = 0\n",
    "            test_total_roc = 0\n",
    "            for user_ids, item_ids, labels in tqdm(test_loader):\n",
    "                user_ids, item_ids, labels = user_ids.to(device), item_ids.to(device), labels.to(device)\n",
    "                outputs = net(user_ids, item_ids)\n",
    "                test_running_loss += criterion(outputs, labels).item()\n",
    "                test_total_roc += roc_auc_score(labels.cpu().detach().numpy(), outputs.cpu().detach().numpy())\n",
    "            \n",
    "            # print test loss per every epoch\n",
    "            test_loss, test_auc = test_running_loss / len(test_loader), test_total_roc / len(test_loader)\n",
    "            print('[Epoch {}]test_loss: '.format(epoch+1), test_loss, ' ; test_auc: ', test_auc)\n",
    "            test_loss_list.append(test_loss)\n",
    "            test_auc_list.append(test_auc)\n",
    "            mlflow.log_metric(\"test_loss\", test_loss, step=epoch)\n",
    "            mlflow.log_metric(\"test_auc\", test_auc, step=epoch)\n",
    "\n",
    "    mlflow.pytorch.log_model(net, f\"KGCN_epoch_{epoch+1}\", registered_model_name=None)"
   ]
  },
  {
   "cell_type": "code",
   "execution_count": null,
   "metadata": {},
   "outputs": [
    {
     "data": {
      "image/png": "[encoded data removed]",
      "text/plain": [
       "<Figure size 720x288 with 2 Axes>"
      ]
     },
     "metadata": {
      "needs_background": "light"
     },
     "output_type": "display_data"
    }
   ],
   "source": [
    "# plot losses / scores\n",
    "fig, (ax1,ax2) = plt.subplots(1,2, figsize=(10,4))  # 1 row, 2 columns\n",
    "ax1.set_title(\"loss\")\n",
    "ax1.set_xlabel(\"epoch\")\n",
    "ax1.set_ylabel(\"loss\")\n",
    "ax1.plot(train_loss_list, label='train loss')\n",
    "ax1.plot(test_loss_list, label='test loss')\n",
    "ax1.legend()\n",
    "ax2.set_title(\"auc\")\n",
    "ax2.set_xlabel(\"epoch\")\n",
    "ax2.set_ylabel(\"auc\")\n",
    "ax2.plot(train_auc_list, label='train auc')\n",
    "ax2.plot(test_auc_list, label='test auc')\n",
    "ax2.legend()\n",
    "plt.tight_layout()"
   ]
  }
 ],
 "metadata": {
  "kernelspec": {
   "display_name": "Python 3.7.0 ('KGCN')",
   "language": "python",
   "name": "python3"
  },
  "language_info": {
   "codemirror_mode": {
    "name": "ipython",
    "version": 3
   },
   "file_extension": ".py",
   "mimetype": "text/x-python",
   "name": "python",
   "nbconvert_exporter": "python",
   "pygments_lexer": "ipython3",
   "version": "3.7.0"
  },
  "vscode": {
   "interpreter": {
    "hash": "c791dff56529333f7527cd0b86d4a87978dd6da7beb4c142f1c774dea3a9a3e4"
   }
  }
 },
 "nbformat": 4,
 "nbformat_minor": 4
}
